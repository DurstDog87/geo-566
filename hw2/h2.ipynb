{
 "cells": [
  {
   "cell_type": "code",
   "execution_count": 867,
   "metadata": {},
   "outputs": [
    {
     "name": "stdout",
     "output_type": "stream",
     "text": [
      "The number you entered is odd!\n"
     ]
    }
   ],
   "source": [
    "#TODO ch2: 35, 36, 41, 44, 45, 46, 51, 60, ch3: 63, 68, 71, 73, 74, 75, 77\n",
    "\n",
    "#35, even or odd?\n",
    "n = int(input(\"Enter an integer: \"))\n",
    "if n%2 == 0:\n",
    "    print(\"The number you entered is even!\")\n",
    "else:\n",
    "    print(\"The number you entered is odd!\")\n"
   ]
  },
  {
   "cell_type": "code",
   "execution_count": 868,
   "metadata": {},
   "outputs": [
    {
     "name": "stdout",
     "output_type": "stream",
     "text": [
      "your age in dog years is 105.0!\n"
     ]
    }
   ],
   "source": [
    "#36, Dog years\n",
    "def age_convert():\n",
    "    humanAge = float(input(\"Input your age: \"))\n",
    "    if 0 < humanAge <= 2:\n",
    "        dogAge = humanAge*10.5\n",
    "        return dogAge\n",
    "    elif humanAge > 2:\n",
    "        dogAge = 21 + (4*(humanAge-2))\n",
    "        return dogAge\n",
    "    else:\n",
    "        raise ValueError(\"Age cannot be negative!\")\n",
    "age = age_convert()\n",
    "print(f\"your age in dog years is {age}!\")\n",
    "    \n"
   ]
  },
  {
   "cell_type": "code",
   "execution_count": 869,
   "metadata": {},
   "outputs": [
    {
     "name": "stdout",
     "output_type": "stream",
     "text": [
      "equilateral\n",
      "scaline\n",
      "isosceles\n"
     ]
    }
   ],
   "source": [
    "#41, classifying triangles\n",
    "def triangleType(a, b, c):\n",
    "    if a == b == c:\n",
    "        return \"equilateral\"\n",
    "    elif a != b and b != c and a != c:\n",
    "        return \"isosceles\"\n",
    "    else:\n",
    "        return \"scaline\"\n",
    "#test         \n",
    "print(triangleType(2,2,2))\n",
    "print(triangleType(1,2,2))\n",
    "print(triangleType(1,2,3))"
   ]
  },
  {
   "cell_type": "code",
   "execution_count": 870,
   "metadata": {},
   "outputs": [
    {
     "data": {
      "text/plain": [
       "'The face on the $100 note is Benjamin Franklin!'"
      ]
     },
     "execution_count": 870,
     "metadata": {},
     "output_type": "execute_result"
    }
   ],
   "source": [
    "#44, faces on money\n",
    "def noteFace(amt):\n",
    "    valid = {\n",
    "        1 : \"George Washington\",\n",
    "        2 : \"Thomas Jefferson\",\n",
    "        5 : \"Abraham Lincon\",\n",
    "        10 : \"Alexander Hamilton\",\n",
    "        20 : \"Andrew Jackson\",\n",
    "        50 : \"Ulysses S. Grant\",\n",
    "        100 : \"Benjamin Franklin\"\n",
    "    }\n",
    "    try:\n",
    "        return f\"The face on the ${amt} note is {valid[amt]}!\"\n",
    "    except KeyError:\n",
    "        raise KeyError(f\"There is no ${amt} note!\")\n",
    "note = int(input(\"Enter a bank not amount: \"))\n",
    "noteFace(note)"
   ]
  },
  {
   "cell_type": "code",
   "execution_count": 871,
   "metadata": {},
   "outputs": [
    {
     "data": {
      "text/plain": [
       "'December 25 is Christmas Day!'"
      ]
     },
     "execution_count": 871,
     "metadata": {},
     "output_type": "execute_result"
    }
   ],
   "source": [
    "#45, Date to holiday name\n",
    "def dateToHoliday(date):\n",
    "    hdays = {\n",
    "        \"january 1\" : \"New Year's Day\",\n",
    "        \"july 1\" : \"Canada Day\",\n",
    "        \"december 25\" : \"Christmas Day\"\n",
    "    }\n",
    "    try: \n",
    "        return f\"{date.capitalize()} is {hdays[date.lower()]}!\"\n",
    "    except KeyError:\n",
    "        return f\"{date} is not a holiday I know!\"\n",
    "dt = str(input(\"Enter a date: \"))\n",
    "dateToHoliday(dt)"
   ]
  },
  {
   "cell_type": "code",
   "execution_count": 872,
   "metadata": {},
   "outputs": [
    {
     "name": "stdout",
     "output_type": "stream",
     "text": [
      "black\n",
      "white\n",
      "black\n"
     ]
    },
    {
     "name": "stderr",
     "output_type": "stream",
     "text": [
      "/var/folders/yw/1m6m48rj6_x2rz3w7h577rwc0000gn/T/ipykernel_38033/2548000864.py:6: UserWarning: additional characters after the first 2 discarded\n",
      "  warnings.warn(\"additional characters after the first 2 discarded\", UserWarning)\n"
     ]
    }
   ],
   "source": [
    "#46, what color is that square?\n",
    "import string\n",
    "import warnings\n",
    "def getColor(cell):\n",
    "    if len(cell) > 2: #warn the user if they have input too many characters\n",
    "        warnings.warn(\"additional characters after the first 2 discarded\", UserWarning)\n",
    "    cell = list(map(str, cell[:2])) #map the first 2 items in the given string to a list\n",
    "    cell.sort() #the numeric item in the string is always first\n",
    "    cell[1] = string.ascii_lowercase.index(cell[1].lower()) + 1 #get the alphabetical index of the provided letter and add 1 to it \n",
    "    cell[0] = int(cell[0]) #convert the numeric string to an int\n",
    "    if 0 > cell[0] or 8 < cell[0] or 0 > cell[1] or 8 < cell[1]: #raise an exception is the index provided is out of bounds on a chess board\n",
    "        raise ValueError(\"Invalid index cell value must be < 8 and > 0\")\n",
    "    else:                   # find the remainder of each number of the provided index\n",
    "        cell[0] = cell[0]%2\n",
    "        cell[1] = cell[1]%2\n",
    "        if cell[0] == cell[1]: #if the remainders are equal the cell is blac, if not: the cell is white\n",
    "            return \"black\"\n",
    "        else:\n",
    "            return \"white\" \n",
    "\n",
    "print(getColor(\"a1\")) #a1 is black\n",
    "print(getColor(\"b1\")) #b1 is white\n",
    "print(getColor(\"a1ghtu\")) #prompt user warning, return black\n",
    "\n",
    "\n"
   ]
  },
  {
   "cell_type": "code",
   "execution_count": 873,
   "metadata": {},
   "outputs": [
    {
     "name": "stdout",
     "output_type": "stream",
     "text": [
      "the root is: 0.0\n",
      "the roots are: -5.52786404500042 and -14.47213595499958\n",
      "root((2, 2, 2)) has no real roots\n"
     ]
    }
   ],
   "source": [
    "#51, roots of a quadratic function\n",
    "import math as m\n",
    "def root(a: float, b: float, c: float) -> str:\n",
    "    try:\n",
    "        desc = m.sqrt(b**2-(4*a*c))\n",
    "        if desc == 0:\n",
    "            return f\"the root is: {(-b+desc)/2*a}\"\n",
    "        else: \n",
    "            return f\"the roots are: {(-b+desc)/2*a} and {(-b-desc)/2*a}\"\n",
    "    except ValueError:\n",
    "        return f\"root({a,b,c}) has no real roots\"\n",
    "\n",
    "#test\n",
    "print(root(0,0,0)) #one root\n",
    "print(root(2,10,10)) #two roots\n",
    "print(root(2,2,2)) #no roots\n",
    "    \n"
   ]
  },
  {
   "cell_type": "code",
   "execution_count": 874,
   "metadata": {},
   "outputs": [
    {
     "name": "stdout",
     "output_type": "stream",
     "text": [
      "Thursday\n",
      "Friday\n",
      "Saturday\n",
      "January 1st 2022 was on a Saturday!\n"
     ]
    }
   ],
   "source": [
    "#60, what day of the week is January 1st?\n",
    "from math import floor as floor\n",
    "def janFirst(yr: int) -> str:\n",
    "    day = (yr + floor((yr-1)/4) - floor((yr-1)/100) + floor((yr-1)/400))%7\n",
    "    #The match case feature is only available in python 3.10+ \n",
    "    match day:\n",
    "        case 0:\n",
    "            return \"Sunday\"\n",
    "        case 1: \n",
    "            return \"Monday\"\n",
    "        case 2: \n",
    "            return \"Tuesday\"\n",
    "        case 3: \n",
    "            return \"Wednesday\"\n",
    "        case 4: \n",
    "            return \"Thursday\"\n",
    "        case 5:\n",
    "            return \"Friday\"\n",
    "        case 6:\n",
    "            return \"Saturday\"\n",
    "\n",
    "#test\n",
    "print(janFirst(1998))\n",
    "print(janFirst(1999))\n",
    "print(janFirst(2022))\n",
    "year = int(input(\"Enter a year: \"))\n",
    "print(f\"January 1st {year} was on a {janFirst(year)}!\")\n",
    "\n",
    "            "
   ]
  },
  {
   "cell_type": "markdown",
   "metadata": {},
   "source": [
    "## Chapter 3\n",
    "\n",
    "### do: 63, 68, 71, 73, 74, 75, 77"
   ]
  },
  {
   "cell_type": "code",
   "execution_count": 875,
   "metadata": {},
   "outputs": [
    {
     "name": "stdout",
     "output_type": "stream",
     "text": [
      "The average is 4.5\n"
     ]
    }
   ],
   "source": [
    "#63, average\n",
    "def average():\n",
    "    dat = [] \n",
    "    #begin loop\n",
    "    while True:\n",
    "        #add user inputs to a data list\n",
    "        dat.append(float(input(\"Enter a number, 0 to end: \")))\n",
    "        #if the first number is 0 raise an error\n",
    "        if dat[0] == 0:\n",
    "            raise ValueError(\"The first value cannot be 0!\")\n",
    "        #if the last number is 0, exit the loop\n",
    "        if dat[-1] == 0:\n",
    "            break\n",
    "    #end loop\n",
    "    #return the computed average of the list excluding the last number, which is always 0\n",
    "    return sum(dat[:len(dat)-1])/(len(dat)-1)\n",
    "\n",
    "print(f\"The average is {average()}\")\n",
    "\n",
    "    \n"
   ]
  },
  {
   "cell_type": "code",
   "execution_count": 876,
   "metadata": {},
   "outputs": [
    {
     "name": "stdout",
     "output_type": "stream",
     "text": [
      "Your GPA is: 2.0.\n"
     ]
    }
   ],
   "source": [
    "#68, compute grade point average\n",
    "from math import fabs\n",
    "from string import ascii_lowercase\n",
    "def gpa():\n",
    "    values = [] \n",
    "    while True:\n",
    "        #get input\n",
    "        grade = list(map(str, (str(input(\"Enter a grade (ie: a or a+), enter nothing to stop: \")))))\n",
    "        if grade == [] : break                                         #end loop on empty input\n",
    "        grade.sort()                                                   #operator character is always first\n",
    "        grade[-1] = ascii_lowercase.index(grade[-1].lower()) - 4       #convert alphanumeric character to a number representing a gradepoint (gp)\n",
    "        if grade[-1] >= 0 : values.append(0)                           #if grade is an e or worse (failure) gp is 0.0 this includes all letters after e\n",
    "        else: \n",
    "            grade[-1] = fabs(grade[-1])                                #convert all grades to positive numbers            \n",
    "            #The match case feature is only available in python 3.10+  #adjust gp by operator (+ or - 0.3)\n",
    "            match grade[0]:\n",
    "                case \"+\" : grade[-1] += 0.3\n",
    "                case \"-\" : grade[-1] -= 0.3\n",
    "            if grade[-1] > 4.0 : values.append(4.0)                    #cannot have gpa higher than 4.0\n",
    "            else:\n",
    "                values.append(grade[-1])                               #add gp to list\n",
    "    return sum(values)/len(values) if values != [] else None           #return average gpa if nothing was entered return Nonetype\n",
    "\n",
    "\n",
    "print(f\"Your GPA is: {gpa()}.\")        "
   ]
  },
  {
   "cell_type": "code",
   "execution_count": 877,
   "metadata": {},
   "outputs": [
    {
     "name": "stdout",
     "output_type": "stream",
     "text": [
      "15 Approximations of pi:\n",
      "\n",
      "[3.1666666666666665, 3.1333333333333333, 3.145238095238095, 3.1396825396825396, 3.1427128427128426, 3.1408813408813407, 3.142071817071817, 3.1412548236077646, 3.141839618929402, 3.1414067184965018, 3.1417360992606653, 3.141479689004255, 3.1416831892077552, 3.1415189855952756, 3.141653394197426]\n",
      "\n",
      "The real value of pi is: 3.141592653589793\n"
     ]
    }
   ],
   "source": [
    "#71, approximate pi\n",
    "from math import pi\n",
    "def approxPi(iters=15):\n",
    "    estimates = []\n",
    "    s = [2,3,4]\n",
    "    est = 3\n",
    "    for i in range(iters):\n",
    "        if i % 2 == 0:\n",
    "            est += 4/(s[0]*s[1]*s[2])\n",
    "        else:\n",
    "            est -= 4/(s[0]*s[1]*s[2])\n",
    "        estimates.append(est)\n",
    "        s = [x+2 for x in s]\n",
    "    return estimates\n",
    "\n",
    "        \n",
    "iterations = 15\n",
    "print(f\"{iterations} Approximations of pi:\")\n",
    "print(f\"\\n{approxPi(iterations)}\\n\\nThe real value of pi is: {pi}\")\n"
   ]
  },
  {
   "cell_type": "code",
   "execution_count": 878,
   "metadata": {},
   "outputs": [
    {
     "data": {
      "text/plain": [
       "'fbu nps dijljo'"
      ]
     },
     "execution_count": 878,
     "metadata": {},
     "output_type": "execute_result"
    }
   ],
   "source": [
    "#73, Ceaser Cipher\n",
    "def cipher(msg: str=\"\", shift: int=0, delim: str=\" \") -> str:\n",
    "    msg = msg.split(delim) #split string by seperator\n",
    "    for i in range(len(msg)):\n",
    "        #this does the cipher, it gets the index of the letter then adds the shift, it wraps after the index passes 25\n",
    "        msg[i] = ''.join((chr(97+(ord(letter.lower())-97+shift) % 26) for letter in msg[i])) \n",
    "    return \" \".join(msg) #return the encrypted message\n",
    "        \n",
    "            \n",
    "cipher(msg=\"eat mor chikin\", shift=1)\n"
   ]
  },
  {
   "cell_type": "code",
   "execution_count": 879,
   "metadata": {},
   "outputs": [
    {
     "name": "stdout",
     "output_type": "stream",
     "text": [
      "2.0\n",
      "2.0\n"
     ]
    }
   ],
   "source": [
    "#74, square root\n",
    "from math import fabs, sqrt\n",
    "def newtonsRoot(x: float=4, thresh: float=1*10e-12) -> float:\n",
    "    guess = x*0.5\n",
    "    while fabs(guess**2 - x) > thresh:\n",
    "        guess = (guess + (x/guess))*0.5\n",
    "    return guess\n",
    "\n",
    "print(newtonsRoot())\n",
    "print(sqrt(4))"
   ]
  },
  {
   "cell_type": "code",
   "execution_count": 880,
   "metadata": {},
   "outputs": [
    {
     "name": "stdout",
     "output_type": "stream",
     "text": [
      "True\n",
      "True\n",
      "True\n",
      "False\n",
      "Hannah is a palendrome\n"
     ]
    }
   ],
   "source": [
    "#75, is a string a palendrome\n",
    "def palendrome(word: string) -> bool:\n",
    "    return word.lower() == word[::-1].lower() #this took me far too long to figure out \n",
    "                                              #also works for strings of digits!  \n",
    "\n",
    "print(palendrome(\"hannah\"))\n",
    "print(palendrome(\"AiBoHphoBIa\"))\n",
    "print(palendrome(\"bob\"))\n",
    "print(palendrome(\"jeff\"))\n",
    "\n",
    "name = str(input(\"What is your name? \"))\n",
    "res =\"\" if palendrome(name) else \" not\"\n",
    "print(f\"{name} is{res} a palendrome\")\n",
    "    \n"
   ]
  },
  {
   "cell_type": "code",
   "execution_count": 883,
   "metadata": {},
   "outputs": [
    {
     "name": "stdout",
     "output_type": "stream",
     "text": [
      "Multiplication Tabl:\n",
      "\n",
      "\n",
      "       1    2    3    4    5    6    7    8    9   10\n",
      "\n",
      "  1    1    2    3    4    5    6    7    8    9    10  \n",
      "\n",
      "  2    4    6    8    10    12    14    16    18    20  \n",
      "\n",
      "  3    6    9    12    15    18    21    24    27    30  \n",
      "\n",
      "  4    8    12    16    20    24    28    32    36    40  \n",
      "\n",
      "  5    10    15    20    25    30    35    40    45    50  \n",
      "\n",
      "  6    12    18    24    30    36    42    48    54    60  \n",
      "\n",
      "  7    14    21    28    35    42    49    56    63    70  \n",
      "\n",
      "  8    16    24    32    40    48    56    64    72    80  \n",
      "\n",
      "  9    18    27    36    45    54    63    72    81    90  \n",
      "\n",
      "  10    20    30    40    50    60    70    80    90    100  "
     ]
    }
   ],
   "source": [
    "#77, multiplication table\n",
    "from math import log10\n",
    "def productTable():\n",
    "    r = list(range(1,11)) #defing starting list\n",
    "    print(f\"{'':3s}\",end=\"\") #shift first line over\n",
    "    [print(f\"{r[i]:5}\", end=\"\") for i in range(len(r))] #print the first line\n",
    "    print(\"\\n\") #add space\n",
    "    for i in r: \n",
    "        if not i > 1 : print(f\"  {i:n}  \", end=\"\") #print extra '1' on 2nd line\n",
    "        else:\n",
    "            print(\"\\n\") #add newline after each line\n",
    "        for j in r:\n",
    "            #print additional lines, add extra space after 1 digit integers\n",
    "            if int(log10(1)+1) == 1:\n",
    "                print(f\"  {i*j}\", end=\"  \")\n",
    "            else:\n",
    "                print(f\"{i*j:7n}\", end=\" \")\n",
    "\n",
    "#this is as far as I got without delving into numpy arrays\n",
    "#I had a hard time getting the spacing correct\n",
    "#is there a better way to get consistent matrix spacing?\n",
    "print(\"Multiplication Tabl:\\n\\n\")\n",
    "productTable()\n",
    "\n"
   ]
  }
 ],
 "metadata": {
  "interpreter": {
   "hash": "aee8b7b246df8f9039afb4144a1f6fd8d2ca17a180786b69acc140d282b71a49"
  },
  "kernelspec": {
   "display_name": "Python 3.8.5 64-bit",
   "language": "python",
   "name": "python3"
  },
  "language_info": {
   "codemirror_mode": {
    "name": "ipython",
    "version": 3
   },
   "file_extension": ".py",
   "mimetype": "text/x-python",
   "name": "python",
   "nbconvert_exporter": "python",
   "pygments_lexer": "ipython3",
   "version": "3.10.0"
  },
  "orig_nbformat": 4
 },
 "nbformat": 4,
 "nbformat_minor": 2
}
