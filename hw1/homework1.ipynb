{
 "cells": [
  {
   "cell_type": "code",
   "execution_count": 19,
   "id": "770164a3",
   "metadata": {},
   "outputs": [
    {
     "name": "stdout",
     "output_type": "stream",
     "text": [
      "my Address is: 2010 Edgewood Ave SE, Grand Rapids, MI, 49316\n"
     ]
    }
   ],
   "source": [
    "#TODO 1, 2, 3, 7, 8, 9, 10, 12, 16, 17, 18, 21, 23, 24\n",
    "#Exersise 1\n",
    "addr = \"2010 Edgewood Ave SE, Grand Rapids, MI, 49316\"\n",
    "print(\"my Address is:\", addr)"
   ]
  },
  {
   "cell_type": "code",
   "execution_count": 8,
   "id": "14d4aeeb",
   "metadata": {},
   "outputs": [
    {
     "name": "stdout",
     "output_type": "stream",
     "text": [
      "Please enter your namebob\n",
      "Hello bob!\n"
     ]
    }
   ],
   "source": [
    "#2\n",
    "name = input(\"Please enter your name\")\n",
    "print(\"Hello \", name, \"!\", sep=\"\")"
   ]
  },
  {
   "cell_type": "code",
   "execution_count": 20,
   "id": "baade602",
   "metadata": {},
   "outputs": [
    {
     "name": "stdout",
     "output_type": "stream",
     "text": [
      "Calculate the area of a room!\n",
      "What is the length of the room in feet? 420\n",
      "What is the width of the room in feet? 420\n",
      "The area of your room is: 176400.0 feet\n"
     ]
    }
   ],
   "source": [
    "#3\n",
    "print(\"Calculate the area of a room!\")\n",
    "ln = float(input(\"What is the length of the room in feet? \"))\n",
    "wt = float(input(\"What is the width of the room in feet? \"))\n",
    "print(\"The area of your room is: \", ln * wt, \" feet\", sep=\"\")"
   ]
  },
  {
   "cell_type": "code",
   "execution_count": 33,
   "id": "5f48afbd",
   "metadata": {},
   "outputs": [
    {
     "name": "stdout",
     "output_type": "stream",
     "text": [
      "Enter a positive integer: 100\n"
     ]
    },
    {
     "data": {
      "text/plain": [
       "'The sum from 1 to 100 is 4950'"
      ]
     },
     "execution_count": 33,
     "metadata": {},
     "output_type": "execute_result"
    }
   ],
   "source": [
    "#7 sum of the first n positives\n",
    "n = int(input(\"Enter a positive integer: \"))\n",
    "f\"The sum from 1 to {n} is {sum(range(n))}\" #output using fstring "
   ]
  },
  {
   "cell_type": "code",
   "execution_count": 55,
   "id": "12e3feba",
   "metadata": {},
   "outputs": [
    {
     "name": "stdout",
     "output_type": "stream",
     "text": [
      "How many widgets? 100\n",
      "How many gizmos? 7000\n"
     ]
    },
    {
     "data": {
      "text/plain": [
       "'The total weight of widgets and gizmos is 791500 grams'"
      ]
     },
     "execution_count": 55,
     "metadata": {},
     "output_type": "execute_result"
    }
   ],
   "source": [
    "#8, widgets and gizmos\n",
    "f\"The weight of widgets and gizmos\"\n",
    "nwidgets = int(input(\"How many widgets? \"))\n",
    "ngizmos = int(input(\"How many gizmos? \"))\n",
    "weights = {\n",
    "    \"widgets\" : 75,\n",
    "    \"gizmos\" : 112\n",
    "}\n",
    "f\"The total weight of widgets and gizmos is {(weights['widgets']*nwidgets)+(weights['gizmos']*ngizmos)} grams\""
   ]
  },
  {
   "cell_type": "code",
   "execution_count": 54,
   "id": "6ca49b42",
   "metadata": {},
   "outputs": [
    {
     "name": "stdout",
     "output_type": "stream",
     "text": [
      "Calculate compound interst (4% rate)\n",
      "Enter your inital deposit: 100\n",
      "your rate after\n",
      "1 year: 104.0\n",
      "2 years: 108.0\n",
      "3 years: 112.0\n"
     ]
    }
   ],
   "source": [
    "#9, compound interest\n",
    "def calculate_accumulation(deposit, years, rate):\n",
    "        deposit = deposit + (deposit*rate)*years #calculate balance after n years at rate r\n",
    "        return deposit\n",
    "        \n",
    "print(\"Calculate compound interst (4% rate)\")\n",
    "deposit = float(input(\"Enter your inital deposit: \"))\n",
    "\n",
    "print(f\"your rate after\\n1 year: {calculate_accumulation(deposit, 1, 0.04)}\\n2 years: {calculate_accumulation(deposit, 2, 0.04)}\\n3 years: {calculate_accumulation(deposit, 3, 0.04)}\")"
   ]
  },
  {
   "cell_type": "code",
   "execution_count": 64,
   "id": "f347f6f5",
   "metadata": {},
   "outputs": [
    {
     "name": "stdout",
     "output_type": "stream",
     "text": [
      "Results of do_math:\n",
      "sum:4\n",
      "diff: 0\n",
      "product: 4\n",
      "quotient: 1.0\n",
      "remainder: 0\n",
      "log(a): 0.3010299956639812\n",
      "power (a^b): 4\n"
     ]
    }
   ],
   "source": [
    "#10\n",
    "import math\n",
    "def do_math(a, b):\n",
    "    sm = a+b\n",
    "    diff = a-b\n",
    "    prod = a*b\n",
    "    quo = a/b\n",
    "    mod  = a%b\n",
    "    log =  math.log10(a)\n",
    "    power = a**b\n",
    "    return (sm, diff, prod, quo, mod, log, power)\n",
    "\n",
    "result  = do_math(2,2)\n",
    "print(\"Results of do_math:\\nsum:{sm}\\ndiff: {df}\\nproduct: {pd}\\nquotient: {qt}\\nremainder: {md}\\nlog(a): {lg}\\npower (a^b): {pw}\".format(\n",
    "    sm=result[0], df=result[1], pd=result[2], qt=result[3], md=result[4], lg=result[5], pw=result[6]))"
   ]
  },
  {
   "cell_type": "code",
   "execution_count": 96,
   "id": "1321c69f",
   "metadata": {},
   "outputs": [
    {
     "name": "stdout",
     "output_type": "stream",
     "text": [
      "Find the distance between 2 points on Earth\n",
      "Input your initial point (lat,lon): 23732.0000,112.3872984792347\n",
      "Input your second point (lat,lon): 12,1111.35984987539875498734593847598\n",
      "The distance between these two points on Earth is: 9771.218101685616 km\n"
     ]
    }
   ],
   "source": [
    "#12 distance between 2 points on Earth\n",
    "import math as m\n",
    "print(\"Find the distance between 2 points on Earth\")\n",
    "#take the initial points as strings\n",
    "a = str(input(\"Input your initial point (lat,lon): \"))\n",
    "b = str(input(\"Input your second point (lat,lon): \"))\n",
    "#convert sring to float\n",
    "a = tuple(map(float, a.split(',')))\n",
    "b = tuple(map(float, b.split(',')))\n",
    "#convert degrees to radians\n",
    "a = tuple(map(m.radians, a))\n",
    "b = tuple(map(m.radians, b))\n",
    "#math it up\n",
    "dist = 6371.01*m.acos(m.sin(a[0])*m.sin(b[0])+m.cos(a[0])*m.cos(b[0])*m.cos(a[1]-b[1]))\n",
    "print(f\"The distance between these two points on Earth is: {dist} km\")"
   ]
  },
  {
   "cell_type": "code",
   "execution_count": 103,
   "id": "8810a9f2",
   "metadata": {},
   "outputs": [
    {
     "name": "stdout",
     "output_type": "stream",
     "text": [
      "Give me a radius plase: 44\n",
      "The area of a circle with radius 44.0 is 6082.12337734984\n",
      "The volume of a sphere with radius 44.0 is 356817.90480452386\n"
     ]
    }
   ],
   "source": [
    "#16 area and volume \n",
    "import math as m\n",
    "r = float(input(\"Give me a radius plase: \"))\n",
    "print(f\"The area of a circle with radius {r} is {m.pi*(r**2)}\\nThe volume of a sphere with radius {r} is {(4*m.pi*(r**3))/3}\")"
   ]
  },
  {
   "cell_type": "code",
   "execution_count": 3,
   "id": "f919df14",
   "metadata": {},
   "outputs": [
    {
     "name": "stdout",
     "output_type": "stream",
     "text": [
      "The heat capacity of water is 4.184 joules/g*degree C\n",
      "How many grams of water did you heat? 1\n",
      "What was the change in temp (celsius degrees)? 1\n",
      "You used 4.184 joules of energy to heat this water!\n",
      "this is equal to 1.1622222222222223e-06 kwh!\n",
      "this cost you about 1.0343777777777777e-07 dollars!\n",
      "\n",
      "It would cost you about 0.0023790688888888894 dollars to boil water for an average cup of coffee!\n"
     ]
    }
   ],
   "source": [
    "## 17 heat capacity\n",
    "import math as m \n",
    "C = 4.184\n",
    "joules_per_kwh = 3600000\n",
    "print(f\"The heat capacity of water is {C} joules/g*degree C\")\n",
    "mass = float(input(\"How many grams of water did you heat? \"))\n",
    "dt = float(input(\"What was the change in temp (celsius degrees)? \"))\n",
    "nrg = mass*C*dt\n",
    "kwh = nrg/joules_per_kwh\n",
    "print(f\"You used {round(nrg, 3)} joules of energy to heat this water!\\nthis is equal to {kwh} kwh!\\nthis cost you about {(kwh*8.9)/100} dollars!\")\n",
    "print(f\"\\nIt would cost you about {((250*C*92)/joules_per_kwh)*8.9/100} dollars to boil water for an average cup of coffee!\")\n",
    "#the avg temp of tap water is about 8 degrees celsius\n"
   ]
  },
  {
   "cell_type": "code",
   "execution_count": 7,
   "id": "b07b91b0",
   "metadata": {},
   "outputs": [
    {
     "name": "stdout",
     "output_type": "stream",
     "text": [
      "Compute the area of a cylinder\n",
      "What is the radius of your cylinder? 2\n",
      "What is the height of your cylinder? 4\n",
      "The volume of your cylinder is 50.265!\n"
     ]
    }
   ],
   "source": [
    "#18 volume of a cylinder\n",
    "import math as m\n",
    "print(\"Compute the area of a cylinder\")\n",
    "r = float(input(\"What is the radius of your cylinder? \"))\n",
    "h = float(input(\"What is the height of your cylinder? \"))\n",
    "print(f\"The volume of your cylinder is {round((m.pi*r**2)*h, 3)}!\")"
   ]
  },
  {
   "cell_type": "code",
   "execution_count": 12,
   "id": "613921b5",
   "metadata": {},
   "outputs": [
    {
     "name": "stdout",
     "output_type": "stream",
     "text": [
      "Compute the area of a triangle!\n",
      "What is the base of the triangle? 2\n",
      "What is the height of the triangle? 2\n",
      "The area of your triangle is 2.0\n"
     ]
    }
   ],
   "source": [
    "#21, area of a triangle\n",
    "print(\"Compute the area of a triangle!\")\n",
    "b = float(input(\"What is the base of the triangle? \"))\n",
    "h = float(input(\"What is the height of the triangle? \"))\n",
    "print(f\"The area of your triangle is {(b*h)/2}\")"
   ]
  },
  {
   "cell_type": "code",
   "execution_count": 2,
   "id": "9fe2c343",
   "metadata": {},
   "outputs": [
    {
     "name": "stdout",
     "output_type": "stream",
     "text": [
      "Area of a regular polygon!!!\n",
      "How many sides does your polygon have? 777\n",
      "What is the length of those sides? 777\n",
      "The area of your polygon is 474170.2316630642!\n"
     ]
    }
   ],
   "source": [
    "#23, area of a regular polygon\n",
    "import math as m\n",
    "print(\"Area of a regular polygon!!!\")\n",
    "n = int(input(\"How many sides does your polygon have? \"))\n",
    "if n == 2:\n",
    "    print(\"\\na polygon must have more than 2 sides!\")\n",
    "    exit(1)\n",
    "else:\n",
    "    s = float(input(\"What is the length of those sides? \"))\n",
    "    a = (n*s**2)/4*m.tan(m.pi/n)\n",
    "    print(f\"The area of your polygon is {a}!\")"
   ]
  },
  {
   "cell_type": "code",
   "execution_count": 18,
   "id": "06fa063b",
   "metadata": {
    "scrolled": true
   },
   "outputs": [
    {
     "name": "stdout",
     "output_type": "stream",
     "text": [
      "Compute some units of time!!\n",
      "Enter your time (dd:hh:mm:ss): 365:0:0:0\n",
      "This is 31536000 seconds!\n"
     ]
    }
   ],
   "source": [
    "#24, units of time \n",
    "print(\"Compute some units of time!!\")\n",
    "duration = str(input(\"Enter your time (dd:hh:mm:ss): \"))\n",
    "duration = tuple(map(int, duration.split(\":\")))\n",
    "seconds = duration[-1] + (duration[-2]*60) + (duration[-3]*60**2) + (duration[-4]*60**2*24)\n",
    "print(f\"This is {seconds} seconds!\")"
   ]
  }
 ],
 "metadata": {
  "kernelspec": {
   "display_name": "Python 3 (ipykernel)",
   "language": "python",
   "name": "python3"
  },
  "language_info": {
   "codemirror_mode": {
    "name": "ipython",
    "version": 3
   },
   "file_extension": ".py",
   "mimetype": "text/x-python",
   "name": "python",
   "nbconvert_exporter": "python",
   "pygments_lexer": "ipython3",
   "version": "3.9.5"
  }
 },
 "nbformat": 4,
 "nbformat_minor": 5
}
