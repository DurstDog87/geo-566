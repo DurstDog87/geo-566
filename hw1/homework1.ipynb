{
 "cells": [
  {
   "cell_type": "code",
   "execution_count": null,
   "id": "770164a3",
   "metadata": {},
   "outputs": [],
   "source": [
    "#TODO 1, 2, 3, 7, 8, 9, 10, 12, 16, 17, 18, 21, 23, 24\n",
    "#Exersise 1\n",
    "addr = \"2044 BeanTown Dr SE, SquashVille, ID, 64735\"\n",
    "print(\"my Address is:\", addr)"
   ]
  },
  {
   "cell_type": "code",
   "execution_count": null,
   "id": "14d4aeeb",
   "metadata": {},
   "outputs": [],
   "source": [
    "#2\n",
    "name = input(\"Please enter your name\")\n",
    "print(\"Hello \", name, \"!\", sep=\"\")"
   ]
  },
  {
   "cell_type": "code",
   "execution_count": null,
   "id": "baade602",
   "metadata": {},
   "outputs": [],
   "source": [
    "#3\n",
    "print(\"Calculate the area of a room!\")\n",
    "ln = float(input(\"What is the length of the room in feet? \"))\n",
    "wt = float(input(\"What is the width of the room in feet? \"))\n",
    "print(\"The area of your room is: \", ln * wt, \" feet\", sep=\"\")"
   ]
  },
  {
   "cell_type": "code",
   "execution_count": null,
   "id": "5f48afbd",
   "metadata": {},
   "outputs": [],
   "source": [
    "#7 sum of the first n positives\n",
    "n = int(input(\"Enter a positive integer: \"))\n",
    "f\"The sum from 1 to {n} is {sum(range(n))}\" #output using fstring "
   ]
  },
  {
   "cell_type": "code",
   "execution_count": null,
   "id": "12e3feba",
   "metadata": {},
   "outputs": [],
   "source": [
    "#8, widgets and gizmos\n",
    "f\"The weight of widgets and gizmos\"\n",
    "nwidgets = int(input(\"How many widgets? \"))\n",
    "ngizmos = int(input(\"How many gizmos? \"))\n",
    "weights = {\n",
    "    \"widgets\" : 75,\n",
    "    \"gizmos\" : 112\n",
    "}\n",
    "f\"The total weight of widgets and gizmos is {(weights['widgets']*nwidgets)+(weights['gizmos']*ngizmos)} grams\""
   ]
  },
  {
   "cell_type": "code",
   "execution_count": null,
   "id": "6ca49b42",
   "metadata": {},
   "outputs": [],
   "source": [
    "#9, compound interest\n",
    "def calculate_accumulation(deposit, years, rate):\n",
    "        deposit = deposit + (deposit*rate)*years #calculate balance after n years at rate r\n",
    "        return deposit\n",
    "        \n",
    "print(\"Calculate compound interst (4% rate)\")\n",
    "deposit = float(input(\"Enter your inital deposit: \"))\n",
    "\n",
    "print(f\"your rate after\\n1 year: {calculate_accumulation(deposit, 1, 0.04)}\\n2 years: {calculate_accumulation(deposit, 2, 0.04)}\\n3 years: {calculate_accumulation(deposit, 3, 0.04)}\")"
   ]
  },
  {
   "cell_type": "code",
   "execution_count": null,
   "id": "f347f6f5",
   "metadata": {},
   "outputs": [],
   "source": [
    "#10\n",
    "import math\n",
    "def do_math(a, b):\n",
    "    sm = a+b\n",
    "    diff = a-b\n",
    "    prod = a*b\n",
    "    quo = a/b\n",
    "    mod  = a%b\n",
    "    log =  math.log10(a)\n",
    "    power = a**b\n",
    "    return (sm, diff, prod, quo, mod, log, power)\n",
    "\n",
    "result  = do_math(2,2)\n",
    "print(\"Results of do_math:\\nsum:{sm}\\ndiff: {df}\\nproduct: {pd}\\nquotient: {qt}\\nremainder: {md}\\nlog(a): {lg}\\npower (a^b): {pw}\".format(\n",
    "    sm=result[0], df=result[1], pd=result[2], qt=result[3], md=result[4], lg=result[5], pw=result[6]))"
   ]
  },
  {
   "cell_type": "code",
   "execution_count": null,
   "id": "1321c69f",
   "metadata": {},
   "outputs": [],
   "source": [
    "#12 distance between 2 points on Earth\n",
    "import math as m\n",
    "print(\"Find the distance between 2 points on Earth\")\n",
    "#take the initial points as strings\n",
    "a = str(input(\"Input your initial point (lat,lon): \"))\n",
    "b = str(input(\"Input your second point (lat,lon): \"))\n",
    "#convert sring to float\n",
    "a = tuple(map(float, a.split(',')))\n",
    "b = tuple(map(float, b.split(',')))\n",
    "#convert degrees to radians\n",
    "a = tuple(map(m.radians, a))\n",
    "b = tuple(map(m.radians, b))\n",
    "#math it up\n",
    "dist = 6371.01*m.acos(m.sin(a[0])*m.sin(b[0])+m.cos(a[0])*m.cos(b[0])*m.cos(a[1]-b[1]))\n",
    "print(f\"The distance between these two points on Earth is: {dist} km\")"
   ]
  },
  {
   "cell_type": "code",
   "execution_count": null,
   "id": "8810a9f2",
   "metadata": {},
   "outputs": [],
   "source": [
    "#16 area and volume \n",
    "import math as m\n",
    "r = float(input(\"Give me a radius plase: \"))\n",
    "print(f\"The area of a circle with radius {r} is {m.pi*(r**2)}\\nThe volume of a sphere with radius {r} is {(4*m.pi*(r**3))/3}\")"
   ]
  },
  {
   "cell_type": "code",
   "execution_count": null,
   "id": "f919df14",
   "metadata": {},
   "outputs": [],
   "source": [
    "## 17 heat capacity\n",
    "import math as m \n",
    "C = 4.184\n",
    "joules_per_kwh = 3600000\n",
    "print(f\"The heat capacity of water is {C} joules/g*degree C\")\n",
    "mass = float(input(\"How many grams of water did you heat? \"))\n",
    "dt = float(input(\"What was the change in temp (celsius degrees)? \"))\n",
    "nrg = mass*C*dt\n",
    "kwh = nrg/joules_per_kwh\n",
    "print(f\"You used {round(nrg, 3)} joules of energy to heat this water!\\nthis is equal to {kwh} kwh!\\nthis cost you about {(kwh*8.9)/100} dollars!\")\n",
    "print(f\"\\nIt would cost you about {((250*C*92)/joules_per_kwh)*8.9/100} dollars to boil water for an average cup of coffee!\")\n",
    "#the avg temp of tap water is about 8 degrees celsius\n"
   ]
  },
  {
   "cell_type": "code",
   "execution_count": null,
   "id": "b07b91b0",
   "metadata": {},
   "outputs": [],
   "source": [
    "#18 volume of a cylinder\n",
    "import math as m\n",
    "print(\"Compute the area of a cylinder\")\n",
    "r = float(input(\"What is the radius of your cylinder? \"))\n",
    "h = float(input(\"What is the height of your cylinder? \"))\n",
    "print(f\"The volume of your cylinder is {round((m.pi*r**2)*h, 3)}!\")"
   ]
  },
  {
   "cell_type": "code",
   "execution_count": null,
   "id": "613921b5",
   "metadata": {},
   "outputs": [],
   "source": [
    "#21, area of a triangle\n",
    "print(\"Compute the area of a triangle!\")\n",
    "b = float(input(\"What is the base of the triangle? \"))\n",
    "h = float(input(\"What is the height of the triangle? \"))\n",
    "print(f\"The area of your triangle is {(b*h)/2}\")"
   ]
  },
  {
   "cell_type": "code",
   "execution_count": null,
   "id": "9fe2c343",
   "metadata": {},
   "outputs": [],
   "source": [
    "#23, area of a regular polygon\n",
    "import math as m\n",
    "print(\"Area of a regular polygon!!!\")\n",
    "n = int(input(\"How many sides does your polygon have? \"))\n",
    "if n == 2:\n",
    "    print(\"\\na polygon must have more than 2 sides!\")\n",
    "    exit(1)\n",
    "else:\n",
    "    s = float(input(\"What is the length of those sides? \"))\n",
    "    a = (n*s**2)/4*m.tan(m.pi/n)\n",
    "    print(f\"The area of your polygon is {a}!\")"
   ]
  },
  {
   "cell_type": "code",
   "execution_count": null,
   "id": "06fa063b",
   "metadata": {
    "scrolled": true
   },
   "outputs": [],
   "source": [
    "#24, units of time \n",
    "print(\"Compute some units of time!!\")\n",
    "duration = str(input(\"Enter your time (dd:hh:mm:ss): \"))\n",
    "duration = tuple(map(int, duration.split(\":\")))\n",
    "seconds = duration[-1] + (duration[-2]*60) + (duration[-3]*60**2) + (duration[-4]*60**2*24)\n",
    "print(f\"This is {seconds} seconds!\")"
   ]
  }
 ],
 "metadata": {
  "kernelspec": {
   "display_name": "Python 3 (ipykernel)",
   "language": "python",
   "name": "python3"
  },
  "language_info": {
   "codemirror_mode": {
    "name": "ipython",
    "version": 3
   },
   "file_extension": ".py",
   "mimetype": "text/x-python",
   "name": "python",
   "nbconvert_exporter": "python",
   "pygments_lexer": "ipython3",
   "version": "3.9.5"
  }
 },
 "nbformat": 4,
 "nbformat_minor": 5
}
